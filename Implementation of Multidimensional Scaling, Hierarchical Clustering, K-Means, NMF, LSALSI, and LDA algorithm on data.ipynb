{
 "cells": [
  {
   "cell_type": "markdown",
   "metadata": {},
   "source": [
    "### Amruta Joshi_1001792172_DS_Assignment 2"
   ]
  },
  {
   "cell_type": "markdown",
   "metadata": {},
   "source": [
    "##### 1. Install if required and import os, sys, string, nltk, en_core_web_sm, spacy,glob, pandas, numpy, TfidfVectorizer, cosine_similarity, corpus,               MDS, matplotlib, dendrogram, linkage, ward, plotly.figure_factory, sklearn.cluster, decomposition, CountVectorizer, LatentDirichletAllocation, TruncatedSVD, plotly\n",
    "##### 2. Change directory to working directory\n",
    "##### 3. Read excel file to dataframe\n",
    "##### 4. Create cleaned corpus by normalizing text, removing digits and punctuations, removing stopwords, lammetizing the text\n",
    "##### 5. Perform Multidimensional Scaling, Hierarchical Clustering, K-Means algorithm on data \n",
    "##### 6. Obtain 5 topics using three different algorithms, namely, NMF, LSA/LSI, and LDA"
   ]
  },
  {
   "cell_type": "code",
   "execution_count": 2,
   "metadata": {},
   "outputs": [
    {
     "name": "stdout",
     "output_type": "stream",
     "text": [
      "Requirement already satisfied: spacy in c:\\users\\amrut\\anaconda3\\lib\\site-packages (2.3.0)\n",
      "Requirement already satisfied: requests<3.0.0,>=2.13.0 in c:\\users\\amrut\\anaconda3\\lib\\site-packages (from spacy) (2.22.0)\n",
      "Requirement already satisfied: wasabi<1.1.0,>=0.4.0 in c:\\users\\amrut\\anaconda3\\lib\\site-packages (from spacy) (0.7.0)\n",
      "Requirement already satisfied: tqdm<5.0.0,>=4.38.0 in c:\\users\\amrut\\anaconda3\\lib\\site-packages (from spacy) (4.47.0)\n",
      "Requirement already satisfied: cymem<2.1.0,>=2.0.2 in c:\\users\\amrut\\anaconda3\\lib\\site-packages (from spacy) (2.0.3)\n",
      "Requirement already satisfied: preshed<3.1.0,>=3.0.2 in c:\\users\\amrut\\anaconda3\\lib\\site-packages (from spacy) (3.0.2)\n",
      "Requirement already satisfied: murmurhash<1.1.0,>=0.28.0 in c:\\users\\amrut\\anaconda3\\lib\\site-packages (from spacy) (1.0.2)\n",
      "Requirement already satisfied: blis<0.5.0,>=0.4.0 in c:\\users\\amrut\\anaconda3\\lib\\site-packages (from spacy) (0.4.1)\n",
      "Requirement already satisfied: srsly<1.1.0,>=1.0.2 in c:\\users\\amrut\\anaconda3\\lib\\site-packages (from spacy) (1.0.2)\n",
      "Requirement already satisfied: numpy>=1.15.0 in c:\\users\\amrut\\anaconda3\\lib\\site-packages (from spacy) (1.16.5)\n",
      "Requirement already satisfied: thinc==7.4.1 in c:\\users\\amrut\\anaconda3\\lib\\site-packages (from spacy) (7.4.1)\n",
      "Requirement already satisfied: setuptools in c:\\users\\amrut\\anaconda3\\lib\\site-packages (from spacy) (41.4.0)\n",
      "Requirement already satisfied: catalogue<1.1.0,>=0.0.7 in c:\\users\\amrut\\anaconda3\\lib\\site-packages (from spacy) (1.0.0)\n",
      "Requirement already satisfied: plac<1.2.0,>=0.9.6 in c:\\users\\amrut\\anaconda3\\lib\\site-packages (from spacy) (1.1.3)\n",
      "Requirement already satisfied: certifi>=2017.4.17 in c:\\users\\amrut\\anaconda3\\lib\\site-packages (from requests<3.0.0,>=2.13.0->spacy) (2019.9.11)\n",
      "Requirement already satisfied: chardet<3.1.0,>=3.0.2 in c:\\users\\amrut\\anaconda3\\lib\\site-packages (from requests<3.0.0,>=2.13.0->spacy) (3.0.4)\n",
      "Requirement already satisfied: urllib3!=1.25.0,!=1.25.1,<1.26,>=1.21.1 in c:\\users\\amrut\\anaconda3\\lib\\site-packages (from requests<3.0.0,>=2.13.0->spacy) (1.24.2)\n",
      "Requirement already satisfied: idna<2.9,>=2.5 in c:\\users\\amrut\\anaconda3\\lib\\site-packages (from requests<3.0.0,>=2.13.0->spacy) (2.8)\n",
      "Requirement already satisfied: importlib-metadata>=0.20; python_version < \"3.8\" in c:\\users\\amrut\\anaconda3\\lib\\site-packages (from catalogue<1.1.0,>=0.0.7->spacy) (0.23)\n",
      "Requirement already satisfied: zipp>=0.5 in c:\\users\\amrut\\anaconda3\\lib\\site-packages (from importlib-metadata>=0.20; python_version < \"3.8\"->catalogue<1.1.0,>=0.0.7->spacy) (0.6.0)\n",
      "Requirement already satisfied: more-itertools in c:\\users\\amrut\\anaconda3\\lib\\site-packages (from zipp>=0.5->importlib-metadata>=0.20; python_version < \"3.8\"->catalogue<1.1.0,>=0.0.7->spacy) (7.2.0)\n",
      "Requirement already satisfied: plotly in c:\\users\\amrut\\anaconda3\\lib\\site-packages (4.8.2)\n",
      "Requirement already satisfied: six in c:\\users\\amrut\\anaconda3\\lib\\site-packages (from plotly) (1.12.0)\n",
      "Requirement already satisfied: retrying>=1.3.3 in c:\\users\\amrut\\anaconda3\\lib\\site-packages (from plotly) (1.3.3)\n"
     ]
    }
   ],
   "source": [
    "import os, sys, string, nltk, en_core_web_sm, spacy       # install and import required libraries \n",
    "import glob as glob\n",
    "import pandas as pd\n",
    "import numpy as np\n",
    "from sklearn.feature_extraction.text import TfidfVectorizer\n",
    "from sklearn.metrics.pairwise import cosine_similarity\n",
    "from nltk import corpus\n",
    "from sklearn.manifold import MDS\n",
    "import matplotlib.pyplot as plt\n",
    "from scipy.cluster.hierarchy import dendrogram, linkage, ward\n",
    "# from matplotlib import pyplot as plt\n",
    "import plotly.figure_factory as ff\n",
    "from sklearn.cluster import KMeans\n",
    "from sklearn import decomposition \n",
    "from sklearn.feature_extraction.text import CountVectorizer\n",
    "from sklearn.decomposition import LatentDirichletAllocation\n",
    "from sklearn.decomposition import TruncatedSVD\n",
    "\n",
    "!{sys.executable} -m pip install spacy\n",
    "!{sys.executable} -m pip install plotly\n",
    "os.chdir(\"/Users/amrut/Documents/UTA documents/Courses/Summer 2020/Data Science/HW/HW2/Patents_xls/Patents_xls\")\n",
    "files = glob.glob(\"*xlsx\")                                               # fetch all xlsx files                                            "
   ]
  },
  {
   "cell_type": "code",
   "execution_count": 3,
   "metadata": {},
   "outputs": [
    {
     "name": "stderr",
     "output_type": "stream",
     "text": [
      "C:\\Users\\amrut\\Anaconda3\\lib\\site-packages\\spacy\\util.py:271: UserWarning: [W031] Model 'en_core_web_sm' (2.2.0) requires spaCy v2.2 and is incompatible with the current spaCy version (2.3.0). This may lead to unexpected results or runtime errors. To resolve this, download a newer compatible model or retrain your custom model with the current spaCy version. For more details and available updates, run: python -m spacy validate\n",
      "  warnings.warn(warn_msg)\n"
     ]
    }
   ],
   "source": [
    "corpus_list=[]                                                         # create empty dictionary  \n",
    "cleaned_corpus_list=[]\n",
    "cleaned_corpus_list_new=[]\n",
    "for i in range(13):\n",
    "    df = pd.read_excel(files[i])                                       # read file into a dataframe\n",
    "    titles = list(df['TI'])                                            # list contents of a column of df \n",
    "    abstracts = list(df['AB'])\n",
    "    corpus_list.append(\" \".join([str(a) + str(b) for a,b in zip(titles, abstracts)]))\n",
    "    corpus_str=''.join([str(elem) for elem in corpus_list[i]])\n",
    "#     corpus_str=corpus_str                                            # Normalize text\n",
    "    exclude_list = string.digits + string.punctuation                  # Remove digits and punctuation\n",
    "    table = str.maketrans(exclude_list, len(exclude_list) * \" \")       \n",
    "    corpus_str=corpus_str.translate(table)\n",
    "    corpus_str=corpus_str.split()\n",
    "    stopwords = nltk.corpus.stopwords.words(\"english\")                 # Remove stopwords \n",
    "    corpus_str = [w for w in corpus_str if w not in stopwords]\n",
    "    nlp = en_core_web_sm.load()                                        # Load NLP\n",
    "    nlp.max_length = 94098311                                          # define maximum length of nlp\n",
    "    corpus_str=' '.join([str(elem) for elem in corpus_str])            # convert list to string  \n",
    "    doc_spacy = nlp(corpus_str)\n",
    "    vectorizer = TfidfVectorizer()                                     # define tfidf vectorizer\n",
    "    cleaned_corpus_list.append([token.lemma_ for token in doc_spacy])  # Lemmetize the text\n",
    "    corpus_str=' '.join([str(elem) for elem in cleaned_corpus_list[i]])\n",
    "    cleaned_corpus_list_new.append(corpus_str)                         # create list of lammentized text from all 13 files    \n",
    "    "
   ]
  },
  {
   "cell_type": "markdown",
   "metadata": {},
   "source": [
    "##### Below all unsupervised learning algorithms yeild similar results"
   ]
  },
  {
   "cell_type": "code",
   "execution_count": 6,
   "metadata": {},
   "outputs": [
    {
     "data": {
      "image/png": "[encoded data removed]",
      "text/plain": [
       "<Figure size 432x288 with 1 Axes>"
      ]
     },
     "metadata": {
      "needs_background": "light"
     },
     "output_type": "display_data"
    }
   ],
   "source": [
    "# perform multidimentional scaling on data\n",
    "vectorizer = TfidfVectorizer()                                   # initialize a vectorizer\n",
    "vectorizer = TfidfVectorizer(stop_words = 'english', min_df = 2) # define tfidf vectorizer\n",
    "dtm = vectorizer.fit_transform(cleaned_corpus_list_new)          # create dtm\n",
    "similarity = cosine_similarity(dtm)                              # cosine similarity\n",
    "cos_distance = 1 - similarity                                    # convert to distance  \n",
    "vectorizer = CountVectorizer()                                   # initialize vectorizer \n",
    "matrix = vectorizer.fit_transform(cleaned_corpus_list_new)          \n",
    "feature_names= vectorizer.get_feature_names()                    # get feature names       \n",
    "filename=[]               \n",
    "for i in range(13):\n",
    "    filename.append(files[i].split(\".\")[0] + \".txt\")             # get filenames\n",
    "mds = MDS(n_components = 2, dissimilarity='precomputed', random_state=1) # perform multidimentional scaling on data\n",
    "pos = mds.fit_transform(cos_distance)\n",
    "xs, ys = pos[:,0], pos[:,1]\n",
    "for x, y, name in zip(xs, ys, filename):\n",
    "    plt.scatter(x, y)                                                    # create scatter plot\n",
    "    plt.text(x, y, name)                                                 # create text with names\n",
    "plt.show()                                                               # show plot"
   ]
  },
  {
   "cell_type": "code",
   "execution_count": 7,
   "metadata": {},
   "outputs": [
    {
     "data": {
      "image/png": "[encoded data removed]",
      "text/plain": [
       "<Figure size 432x288 with 1 Axes>"
      ]
     },
     "metadata": {
      "needs_background": "light"
     },
     "output_type": "display_data"
    }
   ],
   "source": [
    "linkage_matrix = ward(cos_distance)                             # perform hierarchical clustering on data\n",
    "dendrogram(linkage_matrix, orientation='right', labels=filename)\n",
    "plt.show()                                                      # show dendrogram"
   ]
  },
  {
   "cell_type": "code",
   "execution_count": 10,
   "metadata": {},
   "outputs": [
    {
     "name": "stdout",
     "output_type": "stream",
     "text": [
      "0 : Apple\n",
      "0 : Google\n",
      "0 : HTC\n",
      "2 : Huawei\n",
      "3 : InterDigital\n",
      "1 : Kodak\n",
      "1 : LG\n",
      "0 : Nokia\n",
      "0 : Oracle\n",
      "4 : Pantech\n",
      "1 : Samsung\n",
      "0 : Sony Ericsson\n",
      "2 : ZTE\n"
     ]
    },
    {
     "data": {
      "text/html": [
       "<div>\n",
       "<style scoped>\n",
       "    .dataframe tbody tr th:only-of-type {\n",
       "        vertical-align: middle;\n",
       "    }\n",
       "\n",
       "    .dataframe tbody tr th {\n",
       "        vertical-align: top;\n",
       "    }\n",
       "\n",
       "    .dataframe thead th {\n",
       "        text-align: right;\n",
       "    }\n",
       "</style>\n",
       "<table border=\"1\" class=\"dataframe\">\n",
       "  <thead>\n",
       "    <tr style=\"text-align: right;\">\n",
       "      <th></th>\n",
       "      <th>company</th>\n",
       "      <th>cluster#</th>\n",
       "      <th>firm_cluster_0</th>\n",
       "      <th>firm_cluster_1</th>\n",
       "      <th>firm_cluster_2</th>\n",
       "      <th>firm_cluster_3</th>\n",
       "      <th>firm_cluster_4</th>\n",
       "    </tr>\n",
       "  </thead>\n",
       "  <tbody>\n",
       "    <tr>\n",
       "      <td>0</td>\n",
       "      <td>Apple</td>\n",
       "      <td>0</td>\n",
       "      <td>0.328717</td>\n",
       "      <td>0.701133</td>\n",
       "      <td>0.791002</td>\n",
       "      <td>8.658834e-01</td>\n",
       "      <td>9.516855e-01</td>\n",
       "    </tr>\n",
       "    <tr>\n",
       "      <td>1</td>\n",
       "      <td>Google</td>\n",
       "      <td>0</td>\n",
       "      <td>0.312171</td>\n",
       "      <td>0.743769</td>\n",
       "      <td>0.712125</td>\n",
       "      <td>8.075528e-01</td>\n",
       "      <td>8.695485e-01</td>\n",
       "    </tr>\n",
       "    <tr>\n",
       "      <td>2</td>\n",
       "      <td>HTC</td>\n",
       "      <td>0</td>\n",
       "      <td>0.643411</td>\n",
       "      <td>0.885755</td>\n",
       "      <td>1.035707</td>\n",
       "      <td>1.057396e+00</td>\n",
       "      <td>1.061398e+00</td>\n",
       "    </tr>\n",
       "    <tr>\n",
       "      <td>3</td>\n",
       "      <td>Huawei</td>\n",
       "      <td>2</td>\n",
       "      <td>0.685163</td>\n",
       "      <td>0.903613</td>\n",
       "      <td>0.364227</td>\n",
       "      <td>9.177853e-01</td>\n",
       "      <td>9.261085e-01</td>\n",
       "    </tr>\n",
       "    <tr>\n",
       "      <td>4</td>\n",
       "      <td>InterDigital</td>\n",
       "      <td>3</td>\n",
       "      <td>0.778790</td>\n",
       "      <td>0.972624</td>\n",
       "      <td>0.857714</td>\n",
       "      <td>3.799066e-08</td>\n",
       "      <td>9.571331e-01</td>\n",
       "    </tr>\n",
       "    <tr>\n",
       "      <td>5</td>\n",
       "      <td>Kodak</td>\n",
       "      <td>1</td>\n",
       "      <td>0.836750</td>\n",
       "      <td>0.520999</td>\n",
       "      <td>1.071526</td>\n",
       "      <td>1.144346e+00</td>\n",
       "      <td>1.145769e+00</td>\n",
       "    </tr>\n",
       "    <tr>\n",
       "      <td>6</td>\n",
       "      <td>LG</td>\n",
       "      <td>1</td>\n",
       "      <td>0.750189</td>\n",
       "      <td>0.360392</td>\n",
       "      <td>0.933770</td>\n",
       "      <td>1.022002e+00</td>\n",
       "      <td>9.802198e-01</td>\n",
       "    </tr>\n",
       "    <tr>\n",
       "      <td>7</td>\n",
       "      <td>Nokia</td>\n",
       "      <td>0</td>\n",
       "      <td>0.368133</td>\n",
       "      <td>0.763937</td>\n",
       "      <td>0.616483</td>\n",
       "      <td>7.740132e-01</td>\n",
       "      <td>7.971667e-01</td>\n",
       "    </tr>\n",
       "    <tr>\n",
       "      <td>8</td>\n",
       "      <td>Oracle</td>\n",
       "      <td>0</td>\n",
       "      <td>0.516460</td>\n",
       "      <td>0.871609</td>\n",
       "      <td>0.818626</td>\n",
       "      <td>9.327395e-01</td>\n",
       "      <td>1.048177e+00</td>\n",
       "    </tr>\n",
       "    <tr>\n",
       "      <td>9</td>\n",
       "      <td>Pantech</td>\n",
       "      <td>4</td>\n",
       "      <td>0.802483</td>\n",
       "      <td>0.965288</td>\n",
       "      <td>0.862971</td>\n",
       "      <td>9.571331e-01</td>\n",
       "      <td>2.356080e-08</td>\n",
       "    </tr>\n",
       "    <tr>\n",
       "      <td>10</td>\n",
       "      <td>Samsung</td>\n",
       "      <td>1</td>\n",
       "      <td>0.710348</td>\n",
       "      <td>0.306019</td>\n",
       "      <td>0.940017</td>\n",
       "      <td>9.894170e-01</td>\n",
       "      <td>1.008314e+00</td>\n",
       "    </tr>\n",
       "    <tr>\n",
       "      <td>11</td>\n",
       "      <td>Sony Ericsson</td>\n",
       "      <td>0</td>\n",
       "      <td>0.454399</td>\n",
       "      <td>0.775040</td>\n",
       "      <td>0.868769</td>\n",
       "      <td>9.371343e-01</td>\n",
       "      <td>7.546855e-01</td>\n",
       "    </tr>\n",
       "    <tr>\n",
       "      <td>12</td>\n",
       "      <td>ZTE</td>\n",
       "      <td>2</td>\n",
       "      <td>0.850462</td>\n",
       "      <td>1.026958</td>\n",
       "      <td>0.364227</td>\n",
       "      <td>9.456944e-01</td>\n",
       "      <td>9.471453e-01</td>\n",
       "    </tr>\n",
       "  </tbody>\n",
       "</table>\n",
       "</div>"
      ],
      "text/plain": [
       "          company  cluster#  firm_cluster_0  firm_cluster_1  firm_cluster_2  \\\n",
       "0           Apple         0        0.328717        0.701133        0.791002   \n",
       "1          Google         0        0.312171        0.743769        0.712125   \n",
       "2             HTC         0        0.643411        0.885755        1.035707   \n",
       "3          Huawei         2        0.685163        0.903613        0.364227   \n",
       "4    InterDigital         3        0.778790        0.972624        0.857714   \n",
       "5           Kodak         1        0.836750        0.520999        1.071526   \n",
       "6              LG         1        0.750189        0.360392        0.933770   \n",
       "7           Nokia         0        0.368133        0.763937        0.616483   \n",
       "8          Oracle         0        0.516460        0.871609        0.818626   \n",
       "9         Pantech         4        0.802483        0.965288        0.862971   \n",
       "10        Samsung         1        0.710348        0.306019        0.940017   \n",
       "11  Sony Ericsson         0        0.454399        0.775040        0.868769   \n",
       "12            ZTE         2        0.850462        1.026958        0.364227   \n",
       "\n",
       "    firm_cluster_3  firm_cluster_4  \n",
       "0     8.658834e-01    9.516855e-01  \n",
       "1     8.075528e-01    8.695485e-01  \n",
       "2     1.057396e+00    1.061398e+00  \n",
       "3     9.177853e-01    9.261085e-01  \n",
       "4     3.799066e-08    9.571331e-01  \n",
       "5     1.144346e+00    1.145769e+00  \n",
       "6     1.022002e+00    9.802198e-01  \n",
       "7     7.740132e-01    7.971667e-01  \n",
       "8     9.327395e-01    1.048177e+00  \n",
       "9     9.571331e-01    2.356080e-08  \n",
       "10    9.894170e-01    1.008314e+00  \n",
       "11    9.371343e-01    7.546855e-01  \n",
       "12    9.456944e-01    9.471453e-01  "
      ]
     },
     "execution_count": 10,
     "metadata": {},
     "output_type": "execute_result"
    }
   ],
   "source": [
    "vectorizer = TfidfVectorizer()                                  # perform K means algorithm on data\n",
    "dtm = vectorizer.fit_transform(cleaned_corpus_list_new)         # create dtm\n",
    "km = KMeans(n_clusters=5, random_state=999)                     \n",
    "cluster_solution = km.fit(dtm)                                  # fit dtm\n",
    "cluster_membership = km.predict(dtm)                            # predict dtm\n",
    "doc_distance_to_center = km.transform(dtm)                      # transform dtm\n",
    "labels = [name[:name.index(\".\")] for name in files]             # create labels     \n",
    "clusters = zip(cluster_membership, labels)                      # create clusters\n",
    "for a, b in clusters:\n",
    "    print(a,\":\", b)                                             # print clusters and labels\n",
    "top_docs = {'company': labels, 'cluster#': cluster_membership,\\\n",
    "            'firm_cluster_0':doc_distance_to_center[0:,0],\\\n",
    "            'firm_cluster_1':doc_distance_to_center[0:,1],\\\n",
    "            'firm_cluster_2':doc_distance_to_center[0:,2],\\\n",
    "            'firm_cluster_3':doc_distance_to_center[0:,3],\\\n",
    "            'firm_cluster_4':doc_distance_to_center[0:,4],\n",
    "            }\n",
    "df = pd.DataFrame(top_docs)                                     # create dataframe\n",
    "df.to_excel(\"clusters.xlsx\", \"Sheet1\")\n",
    "df"
   ]
  },
  {
   "cell_type": "markdown",
   "metadata": {},
   "source": [
    "##### Topics diplayed by NMF are more similar"
   ]
  },
  {
   "cell_type": "code",
   "execution_count": 11,
   "metadata": {},
   "outputs": [
    {
     "name": "stdout",
     "output_type": "stream",
     "text": [
      "Topic 0: system the method datum one device first include may user provide network use second information base object application determine receive\n",
      "Topic 1: first image electrode layer include method second the device form display light substrate datum one liquid pixel gate provide organic\n",
      "Topic 2: method signal terminal communication service network control mobile system invention packet present message datum device call information gateway channel station\n",
      "Topic 3: first device the communication second mobile unit electronic terminal include portable remote antenna one connect display use circuit body information\n",
      "Topic 4: wtru signal the receive channel datum communication wireless method transmit code system use base power transmission apparatus one unit antenna\n"
     ]
    }
   ],
   "source": [
    "names = [fn[:-5] for fn in files]                                      # perform NMF algorithm on data\n",
    "# print(names)\n",
    "num_topics = 5                                                         # number of topics is 5\n",
    "num_top_words = 20                                                     # number of words of every topic is 20\n",
    "clf = decomposition.NMF(n_components = num_topics, random_state=1)\n",
    "doctopic = clf.fit_transform(dtm)                                      # perform fit transform on dtm\n",
    "topic_words = []\n",
    "vocab=[]\n",
    "for topic in clf.components_:\n",
    "    word_idx = np.argsort(topic)[::-1][0:num_top_words]                # sort the indices of topic, revrse it and display number of top words\n",
    "    topic_words.append([feature_names[i] for i in word_idx])           # append an empty list with feature names\n",
    "for t in range(len(topic_words)):\n",
    "    print(\"Topic {}: {}\".format(t, ' '.join(topic_words[t][:20])))     # display 20 topic words\n"
   ]
  },
  {
   "cell_type": "markdown",
   "metadata": {},
   "source": [
    "##### Topics diplayed by LDA are more similar"
   ]
  },
  {
   "cell_type": "code",
   "execution_count": 12,
   "metadata": {},
   "outputs": [
    {
     "name": "stdout",
     "output_type": "stream",
     "text": [
      "Topic 0:\n",
      "layer electrode substrate display semiconductor light line image region gate pattern surface transistor pixel film source area drive organic panel\n",
      "Topic 1:\n",
      "message packet node code say element frame receiver subscriber location optical protocol content equipment rate symbol antenna application bit layer\n",
      "Topic 2:\n",
      "application object store database embodiment associate computer query client file node message storage instruction code cache web transaction packet event\n",
      "Topic 3:\n",
      "image display electronic element sensor portable audio camera document computer color housing content capture print light position store file associate\n",
      "Topic 4:\n",
      "display electrode layer substrate line liquid crystal pixel gate record light panel film region area drive surface image optical pattern\n"
     ]
    }
   ],
   "source": [
    "vectorizer = CountVectorizer(max_df=0.95, min_df=2, max_features=10000, stop_words='english') # perform LDA algorithm on data\n",
    "num_topics = 5                                                                                # number of topics is 5\n",
    "dtm = vectorizer.fit_transform(cleaned_corpus_list_new)                                       # perform fit transform on corpus\n",
    "lda = LatentDirichletAllocation(n_components=num_topics, learning_method=\"batch\",  max_iter=2000, random_state=0)\n",
    "document_topics = lda.fit_transform(dtm)                                                      # perform lda fit transform on dtm\n",
    "feature_names = vectorizer.get_feature_names()                                                # get feature names\n",
    "def display_topics(model, feature_names, n_top_words):\n",
    "    for idx, topic in enumerate(model.components_):\n",
    "        print(\"Topic %d:\" % (idx))                                                            # display 5 topics\n",
    "        print(\" \".join([feature_names[i] for i in topic.argsort()[:-n_top_words- 1:-1]]))     # display top words\n",
    "\n",
    "display_topics(lda, feature_names, 20)                                                        # call function to diplay topics and top words"
   ]
  },
  {
   "cell_type": "markdown",
   "metadata": {},
   "source": [
    "##### Topics diplayed by LSA are less similar"
   ]
  },
  {
   "cell_type": "code",
   "execution_count": 13,
   "metadata": {},
   "outputs": [
    {
     "name": "stdout",
     "output_type": "stream",
     "text": [
      "LSI being performed ...\n",
      "Generating LSI Model .....\n",
      "Topic 0:\n",
      "bus configuration dos circuitsa deep emboss channelsa equipmentdisclose broken confront baffle ecc darken electroluminescence bounce amine bytes cup amplitude arrangementthe\n",
      "Topic 1:\n",
      "confront baffle deep bus darken activate allot cup arrival externally decrypt body conditiona diffusion consist channelsa copolymerization bright channelsmethod broken\n",
      "Topic 2:\n",
      "credit channela arbitrarily devicedisclosed breakpoint bush capture compactly equalizing extremely contextually compressive entirety announcement exponent carrier earpiecea approximated cone ecc\n",
      "Topic 3:\n",
      "credit equalizing entirety bus carrier compactly engineer dos fail announcement circuitsa exponent approximated factor applicationssystem connectionless communicatively broken cameraportable distribute\n",
      "Topic 4:\n",
      "depress arrangementthe contemporaneous antioxidant breakpoint downa antenna deep communicationa configuration checking devicedisclosed depression degrade drawback confront dataone extremely depth deficient\n"
     ]
    }
   ],
   "source": [
    "n=5                                                                                     # perform LSA algorithm on data\n",
    "vectorizer = CountVectorizer(min_df=5, max_df=0.9, stop_words='english', lowercase=True)\n",
    "data_vectorized = vectorizer.fit_transform(cleaned_corpus_list_new)                     # perform fit transform on corpus\n",
    "def get_topics(model, vectorizer, model_name, df, top_n = 20):\n",
    "        result = []\n",
    "        for idx, topic in enumerate(model.components_):\n",
    "            topic_label = model_name + \"_topic_\" + str(idx)                             # create topic label \n",
    "            score = \"SCORE_\" + str(idx)                                                 # create score\n",
    "            aList = [(feature_names[i], topic[i])]                                      # define aList\n",
    "            l1, l2 = zip(*aList)                                                        # get l1 and l2\n",
    "            df[topic_label] = l1                                                        # assign topic label with l1\n",
    "            df[score] = l2                                                              # assign score with l2\n",
    "            return df\n",
    "print(\"LSI being performed ...\")\n",
    "lsi_model = TruncatedSVD(n_components=n, n_iter = 5000)\n",
    "lsi_Z = lsi_model.fit_transform(data_vectorized)\n",
    "print(\"Generating LSI Model .....\")\n",
    "get_topics(lsi_model, vectorizer, \"LSI\", pd.DataFrame())                                # call a function to get topics\n",
    "display_topics(lsi_model,feature_names,20)                                              # call a function to display topics and top words"
   ]
  },
  {
   "cell_type": "code",
   "execution_count": null,
   "metadata": {},
   "outputs": [],
   "source": []
  }
 ],
 "metadata": {
  "kernelspec": {
   "display_name": "Python 3",
   "language": "python",
   "name": "python3"
  },
  "language_info": {
   "codemirror_mode": {
    "name": "ipython",
    "version": 3
   },
   "file_extension": ".py",
   "mimetype": "text/x-python",
   "name": "python",
   "nbconvert_exporter": "python",
   "pygments_lexer": "ipython3",
   "version": "3.7.4"
  }
 },
 "nbformat": 4,
 "nbformat_minor": 2
}
