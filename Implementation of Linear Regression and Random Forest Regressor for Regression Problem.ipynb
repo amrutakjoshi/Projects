{
 "cells": [
  {
   "cell_type": "markdown",
   "metadata": {},
   "source": [
    "### Implementation of Linear Regression and Random Forest Regressor for Regression Problem"
   ]
  },
  {
   "cell_type": "markdown",
   "metadata": {},
   "source": [
    "##### 1. Import the necessary libraries as required \n",
    "##### 2. Read excel file to dataframe\n",
    "##### 3. Standardize training and test datasets.\n",
    "##### 4. Convert the standard scalars to dataframes\n",
    "##### 5. Instantiate Linear Regressor and fit the model for training data\n",
    "##### 6. Display MSE and R^2 for Linear Regressor \n",
    "##### 7. Instantiate Random Forest Regressor and fit the model for training data\n",
    "##### 8. Display MSE and R^2 for Random Forest Regressor \n"
   ]
  },
  {
   "cell_type": "code",
   "execution_count": 3,
   "metadata": {},
   "outputs": [
    {
     "name": "stdout",
     "output_type": "stream",
     "text": [
      "--------------------Linear Regressor----------------------\n",
      "\n",
      "MSE for train: 4810958229.787787\n",
      "MSE for test: 5055026565.872766\n",
      "\n",
      "R^2 for train: 0.6401079709888613\n",
      "R^2 for test: 0.6142405424710489\n",
      "\n",
      "--------------------Random Forest Regressor----------------------\n",
      "\n",
      "MSE for train: 376556178.9633291\n",
      "MSE for test: 2547193834.761921\n",
      "\n",
      "R^2 for train: 0.9718310654944573\n",
      "R^2 for test: 0.8056184079125215\n"
     ]
    }
   ],
   "source": [
    "import warnings                                           #import the necessary libraries required \n",
    "warnings.filterwarnings('ignore')\n",
    "import numpy as np\n",
    "import pandas as pd\n",
    "import matplotlib.pyplot as plt\n",
    "import seaborn as sns\n",
    "from pandas.plotting import scatter_matrix\n",
    "# from sklearn.preprocessing import Imputer\n",
    "from sklearn.impute import SimpleImputer \n",
    "imputer = SimpleImputer(missing_values=np.nan, strategy='mean')\n",
    "from sklearn.preprocessing import LabelEncoder\n",
    "from sklearn.model_selection import train_test_split\n",
    "from sklearn.preprocessing import StandardScaler\n",
    "from sklearn.linear_model import LinearRegression\n",
    "from sklearn.tree import DecisionTreeRegressor\n",
    "from sklearn.ensemble import RandomForestRegressor\n",
    "\n",
    "from sklearn import metrics\n",
    "\n",
    "housing = pd.read_excel(\"C:/Users/amrut/Documents/UTA documents/Courses/Summer 2020/Data Science/HW/HW3/ca_housing.xlsx\")\n",
    "housing[\"ocean_proximity\"] = housing[\"ocean_proximity\"].map({\"<1H OCEAN\":1,\"INLAND\":2,\"ISLAND\":3,\"NEAR BAY\":4,\"NEAR OCEAN\":5})\n",
    "housing_ind = housing.drop(\"median_house_value\",axis=1)           # take column to be predicted as independant variable\n",
    "housing_dep = housing[\"median_house_value\"]                       # take rest of the column as dependant variables\n",
    "X_train,X_test,y_train,y_test = train_test_split(housing_ind,housing_dep,test_size=0.2,random_state=42)\n",
    "independent_scaler = StandardScaler()                             # standardize training and test datasets.\n",
    "\n",
    "X_train_scalar = independent_scaler.fit_transform(X_train)\n",
    "X_test_scalar = independent_scaler.transform(X_test)\n",
    "X_train_scalar_df=pd.DataFrame(data=X_train_scalar)\n",
    "X_test_scalar_df=pd.DataFrame(data=X_test_scalar)\n",
    "\n",
    "linearRegModel = LinearRegression()                               # initantiate the linear regressor\n",
    "linearRegModel.fit(X_train_scalar_df,y_train)                     # fit the linear regressor\n",
    "\n",
    "X_train_scalar_df.fillna(X_train_scalar_df.mean(),inplace = True) # convert the standard scalars to dataframes\n",
    "X_test_scalar_df.fillna(X_train_scalar_df.mean(),inplace = True)\n",
    "\n",
    "y_pred = linearRegModel.predict(X_test_scalar)                    # predict test data in linear regressor\n",
    "\n",
    "print(\"--------------------Linear Regressor----------------------\")\n",
    "\n",
    "print(\"\\nMSE for train: {}\".format(metrics.mean_squared_error(y_train,linearRegModel.predict(X_train_scalar_df))))\n",
    "print(\"MSE for test: {}\".format(metrics.mean_squared_error(y_test,y_pred)))\n",
    "\n",
    "from sklearn.metrics import mean_squared_error\n",
    "print(\"\\nR^2 for train: {}\".format(linearRegModel.score(X_train_scalar_df, y_train)))\n",
    "print(\"R^2 for test: {}\".format(linearRegModel.score(X_test_scalar_df, y_test)))\n",
    "\n",
    "rfReg = RandomForestRegressor(30)                                # initantiate the Random Forest regressor\n",
    "rfReg.fit(X_train_scalar_df,y_train)                             # fit the Random Forest regressor\n",
    "rfReg_y_pred = rfReg.predict(X_test_scalar_df)                   # predict test data in Random Forest regressor\n",
    "\n",
    "print(\"\\n--------------------Random Forest Regressor----------------------\")\n",
    "\n",
    "print(\"\\nMSE for train: {}\".format(metrics.mean_squared_error(y_train,rfReg.predict(X_train_scalar_df))))\n",
    "print(\"MSE for test: {}\".format(metrics.mean_squared_error(y_test,rfReg_y_pred)))\n",
    "print(\"\\nR^2 for train: {}\".format(rfReg.score(X_train_scalar_df, y_train)))\n",
    "print(\"R^2 for test: {}\".format(rfReg.score(X_test_scalar_df, y_test)))\n"
   ]
  },
  {
   "cell_type": "code",
   "execution_count": null,
   "metadata": {},
   "outputs": [],
   "source": []
  },
  {
   "cell_type": "code",
   "execution_count": null,
   "metadata": {},
   "outputs": [],
   "source": []
  }
 ],
 "metadata": {
  "kernelspec": {
   "display_name": "Python 3",
   "language": "python",
   "name": "python3"
  },
  "language_info": {
   "codemirror_mode": {
    "name": "ipython",
    "version": 3
   },
   "file_extension": ".py",
   "mimetype": "text/x-python",
   "name": "python",
   "nbconvert_exporter": "python",
   "pygments_lexer": "ipython3",
   "version": "3.7.4"
  }
 },
 "nbformat": 4,
 "nbformat_minor": 2
}
